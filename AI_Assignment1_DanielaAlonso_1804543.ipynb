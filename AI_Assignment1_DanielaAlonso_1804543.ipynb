{
  "nbformat": 4,
  "nbformat_minor": 0,
  "metadata": {
    "colab": {
      "provenance": [],
      "authorship_tag": "ABX9TyOWrK2aiMNJgDSb5Z4EL/3z",
      "include_colab_link": true
    },
    "kernelspec": {
      "name": "python3",
      "display_name": "Python 3"
    },
    "language_info": {
      "name": "python"
    }
  },
  "cells": [
    {
      "cell_type": "markdown",
      "metadata": {
        "id": "view-in-github",
        "colab_type": "text"
      },
      "source": [
        "<a href=\"https://colab.research.google.com/github/DMichelleAlonsoC/Artificial-Intelligence/blob/main/AI_Assignment1_DanielaAlonso_1804543.ipynb\" target=\"_parent\"><img src=\"https://colab.research.google.com/assets/colab-badge.svg\" alt=\"Open In Colab\"/></a>"
      ]
    },
    {
      "cell_type": "markdown",
      "source": [
        "# **A2: PYTHON EXERCISES**\n",
        "\n",
        "### **Name:** Daniela Michelle Alonso Carrillo\n",
        "### **Student Number:** 1804543\n",
        "### **Class time:** N4-N6 (7:15 pm - 9:30 pm)\n"
      ],
      "metadata": {
        "id": "SmRu7mYvA8nx"
      }
    },
    {
      "cell_type": "code",
      "source": [
        "# 1. Program that asks the user their name and then greet the user with the given name excepts if their name is: \"Ana\", \"John\" or \"Peter\".\n",
        "\n",
        "# To ask the name of the user\n",
        "name = input(\"What is your name?: \")\n",
        "\n",
        "# In case the name is one of the exceptions\n",
        "a = \"Ana\"\n",
        "b = \"John\"\n",
        "c = \"Peter\"\n",
        "if name==a or name==b or name==c:\n",
        "  print(\"That name is not valid, it is not allowed to greet\")\n",
        "else:\n",
        "    print(\"¡Hello \" + name + \"!\")"
      ],
      "metadata": {
        "colab": {
          "base_uri": "https://localhost:8080/"
        },
        "id": "wREq_cP9CGZp",
        "outputId": "efbbba58-f4d1-41c4-8f80-7a6d7ae2f73f"
      },
      "execution_count": 12,
      "outputs": [
        {
          "output_type": "stream",
          "name": "stdout",
          "text": [
            "What is your name?: Daniela\n",
            "¡Hello Daniela!\n"
          ]
        }
      ]
    },
    {
      "cell_type": "code",
      "source": [
        "# 2. Function that returns the last element of a given list, reverts the order of the list and finally returns the reverted list.\n",
        "\n",
        "# List of fruits and vegetables\n",
        "thislist = [\"apples\", \"grapes\", \"carrots\", \"onions\", \"cucumbers\", \"tomatoes\", \"strawberries\"]\n",
        "print(\"The list is: \" , thislist)\n",
        "\n",
        "# To return to the last element of the given list\n",
        "print(\"The last element of the list is: \" + thislist[-1])\n",
        "\n",
        "# To return the reverted list\n",
        "def my_function(rlist):\n",
        "  list2 = list(reversed(rlist))\n",
        "  print(\"The reverted list is: \" , list2)\n",
        "\n",
        "my_function(thislist)"
      ],
      "metadata": {
        "colab": {
          "base_uri": "https://localhost:8080/"
        },
        "id": "dC_NAaZeD2lF",
        "outputId": "130a6f9f-09e5-4a23-9d54-4e84d0608148"
      },
      "execution_count": 4,
      "outputs": [
        {
          "output_type": "stream",
          "name": "stdout",
          "text": [
            "The list is:  ['apples', 'grapes', 'carrots', 'onions', 'cucumbers', 'tomatoes', 'strawberries']\n",
            "The last element of the list is: strawberries\n",
            "The reverted list is:  ['strawberries', 'tomatoes', 'cucumbers', 'onions', 'carrots', 'grapes', 'apples']\n"
          ]
        }
      ]
    },
    {
      "cell_type": "code",
      "source": [
        "# 3. Function that takes a list of strings as input and then it prints, line by line, the whole list in a rectangular shape.\n",
        "\n",
        "# List of strings\n",
        "thislist = [\"********\", \"Hi      \", \"my      \", \"name    \", \"is      \", \"Daniela \", \"Alonso  \", \"********\"]\n",
        "\n",
        "# To print the list line by line and in a rectangular shape\n",
        "def my_function(box):\n",
        "  left = [\"*\"]\n",
        "  right = [\"*\"]\n",
        "  for x in left:\n",
        "    for y in box:\n",
        "      for z in right:\n",
        "        print(x, y, z)\n",
        "\n",
        "my_function(thislist)"
      ],
      "metadata": {
        "colab": {
          "base_uri": "https://localhost:8080/"
        },
        "id": "Cnyl2LUSIhxb",
        "outputId": "a5e9be03-857e-4143-daca-0321fc7051a8"
      },
      "execution_count": 14,
      "outputs": [
        {
          "output_type": "stream",
          "name": "stdout",
          "text": [
            "* ******** *\n",
            "* Hi       *\n",
            "* my       *\n",
            "* name     *\n",
            "* is       *\n",
            "* Daniela  *\n",
            "* Alonso   *\n",
            "* ******** *\n"
          ]
        }
      ]
    }
  ]
}